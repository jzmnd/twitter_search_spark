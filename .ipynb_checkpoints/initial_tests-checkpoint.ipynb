{
 "cells": [
  {
   "cell_type": "code",
   "execution_count": 1,
   "metadata": {},
   "outputs": [
    {
     "data": {
      "text/html": [
       "\n",
       "            <div>\n",
       "                <p><b>SparkSession - hive</b></p>\n",
       "                \n",
       "        <div>\n",
       "            <p><b>SparkContext</b></p>\n",
       "\n",
       "            <p><a href=\"http://192.168.1.64:4040\">Spark UI</a></p>\n",
       "\n",
       "            <dl>\n",
       "              <dt>Version</dt>\n",
       "                <dd><code>v2.2.1</code></dd>\n",
       "              <dt>Master</dt>\n",
       "                <dd><code>local[*]</code></dd>\n",
       "              <dt>AppName</dt>\n",
       "                <dd><code>PySparkShell</code></dd>\n",
       "            </dl>\n",
       "        </div>\n",
       "        \n",
       "            </div>\n",
       "        "
      ],
      "text/plain": [
       "<pyspark.sql.session.SparkSession at 0x10a7cdd68>"
      ]
     },
     "execution_count": 1,
     "metadata": {},
     "output_type": "execute_result"
    }
   ],
   "source": [
    "spark"
   ]
  },
  {
   "cell_type": "code",
   "execution_count": 2,
   "metadata": {},
   "outputs": [],
   "source": [
    "import os\n",
    "import sys\n",
    "import re\n",
    "from unicode_codes import EMOJI_UNICODE, EMOJI_UNICODE_SET"
   ]
  },
  {
   "cell_type": "code",
   "execution_count": 3,
   "metadata": {},
   "outputs": [],
   "source": [
    "DATA_DIR = 'small_data'"
   ]
  },
  {
   "cell_type": "code",
   "execution_count": 4,
   "metadata": {},
   "outputs": [
    {
     "data": {
      "text/plain": [
       "'3.6.4 (default, Jan 17 2018, 15:26:12) \\n[GCC 4.2.1 Compatible Apple LLVM 9.0.0 (clang-900.0.39.2)]'"
      ]
     },
     "execution_count": 4,
     "metadata": {},
     "output_type": "execute_result"
    }
   ],
   "source": [
    "sys.version"
   ]
  },
  {
   "cell_type": "code",
   "execution_count": 5,
   "metadata": {},
   "outputs": [],
   "source": [
    "def get_re(match, window=2):\n",
    "    word_or_emoji_re = \"(['#@]?\\w[\\w'-]*|\\W)?\"\n",
    "\n",
    "    r = \"{} \" + (window - 1) * \"*?{} \" \\\n",
    "        + \"*?({}) \" + (window - 1) * \"*{} \" + \"*{}\"\n",
    "    a = [word_or_emoji_re] * window + [match] + [word_or_emoji_re] * window\n",
    "\n",
    "    return re.compile(r.format(*a))"
   ]
  },
  {
   "cell_type": "code",
   "execution_count": 6,
   "metadata": {},
   "outputs": [],
   "source": [
    "match = EMOJI_UNICODE[':pistol:']\n",
    "match_sql = u\"%{}%\".format(match)\n",
    "\n",
    "match_re_1 = get_re(match, window=1)"
   ]
  },
  {
   "cell_type": "code",
   "execution_count": 7,
   "metadata": {},
   "outputs": [],
   "source": [
    "files = spark.read.json(os.path.join(DATA_DIR, \"01\", \"*\"))"
   ]
  },
  {
   "cell_type": "code",
   "execution_count": 8,
   "metadata": {},
   "outputs": [],
   "source": [
    "cnt = files.filter(files.delete.isNull()).count()"
   ]
  },
  {
   "cell_type": "code",
   "execution_count": 9,
   "metadata": {},
   "outputs": [],
   "source": [
    "files_filtered = files.filter(files.delete.isNull()) \\\n",
    "                      .filter(files.text.like(match_sql)).cache()"
   ]
  },
  {
   "cell_type": "code",
   "execution_count": 10,
   "metadata": {},
   "outputs": [],
   "source": [
    "tweets = files_filtered.rdd \\\n",
    "                       .map(lambda x: x.text)"
   ]
  },
  {
   "cell_type": "code",
   "execution_count": 11,
   "metadata": {},
   "outputs": [],
   "source": [
    "langs = files_filtered.rdd \\\n",
    "                      .map(lambda x: x.lang)"
   ]
  },
  {
   "cell_type": "code",
   "execution_count": 12,
   "metadata": {},
   "outputs": [],
   "source": [
    "locs = files_filtered.rdd \\\n",
    "                     .map(lambda x: (x.geo, x.user.time_zone))"
   ]
  },
  {
   "cell_type": "code",
   "execution_count": 13,
   "metadata": {},
   "outputs": [
    {
     "data": {
      "text/plain": [
       "[(None, 'Brussels'),\n",
       " (None, 'Eastern Time (US & Canada)'),\n",
       " (None, 'Brasilia'),\n",
       " (None, None),\n",
       " (None, None),\n",
       " (None, None),\n",
       " (None, 'Athens'),\n",
       " (None, None),\n",
       " (None, 'Central Time (US & Canada)'),\n",
       " (None, None)]"
      ]
     },
     "execution_count": 13,
     "metadata": {},
     "output_type": "execute_result"
    }
   ],
   "source": [
    "locs.take(10)"
   ]
  },
  {
   "cell_type": "code",
   "execution_count": 14,
   "metadata": {},
   "outputs": [],
   "source": [
    "langs_cnt = langs.countByValue()"
   ]
  },
  {
   "cell_type": "code",
   "execution_count": 15,
   "metadata": {},
   "outputs": [
    {
     "data": {
      "text/plain": [
       "defaultdict(int,\n",
       "            {'ar': 8,\n",
       "             'en': 107,\n",
       "             'es': 17,\n",
       "             'fr': 7,\n",
       "             'in': 8,\n",
       "             'it': 1,\n",
       "             'ja': 7,\n",
       "             'pl': 1,\n",
       "             'pt': 6,\n",
       "             'ro': 1,\n",
       "             'ru': 3,\n",
       "             'sv': 1,\n",
       "             'th': 3,\n",
       "             'tl': 9,\n",
       "             'tr': 1,\n",
       "             'und': 17})"
      ]
     },
     "execution_count": 15,
     "metadata": {},
     "output_type": "execute_result"
    }
   ],
   "source": [
    "langs_cnt"
   ]
  },
  {
   "cell_type": "code",
   "execution_count": 16,
   "metadata": {},
   "outputs": [],
   "source": [
    "cnt_tweets = tweets.count()"
   ]
  },
  {
   "cell_type": "code",
   "execution_count": 17,
   "metadata": {},
   "outputs": [],
   "source": [
    "results = tweets.flatMap(lambda text: re.findall(match_re_1, text)) \\\n",
    "                .cache()\n",
    "before = results.filter(lambda t: (t[0] in EMOJI_UNICODE_SET)) \\\n",
    "                .map(lambda t: (t[0], 1))\n",
    "after = results.filter(lambda t: (t[2] in EMOJI_UNICODE_SET)) \\\n",
    "               .map(lambda t: (t[2], 1))"
   ]
  },
  {
   "cell_type": "code",
   "execution_count": 18,
   "metadata": {},
   "outputs": [],
   "source": [
    "cnt_match = results.count()"
   ]
  },
  {
   "cell_type": "code",
   "execution_count": 19,
   "metadata": {},
   "outputs": [
    {
     "name": "stdout",
     "output_type": "stream",
     "text": [
      "There are: 465656 tweets total with 197 tweets containing: 🔫\n",
      "There are: 222 matches of the character\n"
     ]
    }
   ],
   "source": [
    "print('There are: {} tweets total with {} tweets containing: {}'.format(cnt, cnt_tweets, match))\n",
    "print('There are: {} matches of the character'.format(cnt_match))"
   ]
  },
  {
   "cell_type": "code",
   "execution_count": 20,
   "metadata": {},
   "outputs": [],
   "source": [
    "before_cnt = before.reduceByKey(lambda x, y: x + y)\n",
    "after_cnt = after.reduceByKey(lambda x, y: x + y)"
   ]
  },
  {
   "cell_type": "code",
   "execution_count": 21,
   "metadata": {},
   "outputs": [
    {
     "data": {
      "text/plain": [
       "[('😂', 15),\n",
       " ('🔫', 11),\n",
       " ('😭', 10),\n",
       " ('💥', 9),\n",
       " ('😩', 6),\n",
       " ('🔪', 5),\n",
       " ('😊', 5),\n",
       " ('💣', 4),\n",
       " ('😃', 3),\n",
       " ('😫', 3),\n",
       " ('💂', 2),\n",
       " ('👀', 2),\n",
       " ('😓', 2),\n",
       " ('💵', 2),\n",
       " ('🔥', 2)]"
      ]
     },
     "execution_count": 21,
     "metadata": {},
     "output_type": "execute_result"
    }
   ],
   "source": [
    "before_cnt.takeOrdered(15, key=lambda x: -x[1])"
   ]
  },
  {
   "cell_type": "code",
   "execution_count": 22,
   "metadata": {},
   "outputs": [
    {
     "data": {
      "text/plain": [
       "[('🔫', 41),\n",
       " ('🔪', 7),\n",
       " ('💣', 5),\n",
       " ('😩', 5),\n",
       " ('😀', 4),\n",
       " ('👈', 2),\n",
       " ('💥', 2),\n",
       " ('⚡', 1),\n",
       " ('👮', 1),\n",
       " ('🐼', 1),\n",
       " ('🚨', 1),\n",
       " ('😭', 1),\n",
       " ('💨', 1),\n",
       " ('🚫', 1),\n",
       " ('🏃', 1)]"
      ]
     },
     "execution_count": 22,
     "metadata": {},
     "output_type": "execute_result"
    }
   ],
   "source": [
    "after_cnt.takeOrdered(15, key=lambda x: -x[1])"
   ]
  },
  {
   "cell_type": "code",
   "execution_count": null,
   "metadata": {},
   "outputs": [],
   "source": []
  }
 ],
 "metadata": {
  "kernelspec": {
   "display_name": "Python 3",
   "language": "python",
   "name": "python3"
  },
  "language_info": {
   "codemirror_mode": {
    "name": "ipython",
    "version": 3
   },
   "file_extension": ".py",
   "mimetype": "text/x-python",
   "name": "python",
   "nbconvert_exporter": "python",
   "pygments_lexer": "ipython3",
   "version": "3.6.4"
  }
 },
 "nbformat": 4,
 "nbformat_minor": 2
}
